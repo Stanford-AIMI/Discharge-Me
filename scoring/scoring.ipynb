{
 "cells": [
  {
   "cell_type": "markdown",
   "metadata": {},
   "source": [
    "rouge \n",
    "bertscore\n",
    "\n",
    "f1radgraph\n",
    "\n",
    "bartscore\n",
    "alignscore"
   ]
  },
  {
   "cell_type": "code",
   "execution_count": 110,
   "metadata": {},
   "outputs": [],
   "source": [
    "import os\n",
    "import json\n",
    "import numpy as np\n",
    "import pandas as pd\n",
    "\n",
    "from rouge import Rouge"
   ]
  },
  {
   "cell_type": "code",
   "execution_count": 19,
   "metadata": {},
   "outputs": [],
   "source": [
    "generated_dir = ''\n",
    "reference_dir = '../../autoclin24-data/public/test'\n",
    "score_dir = ''\n",
    "\n",
    "# reference_dir = os.path.join('/app/input/', 'ref')\n",
    "# prediction_dir = os.path.join('/app/input/', 'res')\n",
    "# score_dir = '/app/output/'"
   ]
  },
  {
   "cell_type": "code",
   "execution_count": 78,
   "metadata": {},
   "outputs": [
    {
     "name": "stdout",
     "output_type": "stream",
     "text": [
      "Reading generated texts...\n",
      "Done.\n"
     ]
    }
   ],
   "source": [
    "print('Reading generated texts...')\n",
    "generated = pd.read_csv(os.path.join(generated_dir, 'submission.csv'))\n",
    "reference = pd.read_csv(os.path.join(reference_dir, 'discharge_target.csv.gz'))\n",
    "\n",
    "# covert all elements to string\n",
    "generated['discharge_instructions'] = generated['discharge_instructions'].astype(str)\n",
    "reference['discharge_instructions'] = reference['discharge_instructions'].astype(str)\n",
    "\n",
    "generated['brief_hospital_course'] = generated['brief_hospital_course'].astype(str)\n",
    "reference['brief_hospital_course'] = reference['brief_hospital_course'].astype(str)\n",
    "\n",
    "# convert to multiline strings\n",
    "generated['discharge_instructions'] = generated['discharge_instructions'].str.replace('\\n', ' ')\n",
    "reference['discharge_instructions'] = reference['discharge_instructions'].str.replace('\\n', ' ')\n",
    "\n",
    "generated['brief_hospital_course'] = generated['brief_hospital_course'].str.replace('\\n', ' ')\n",
    "reference['brief_hospital_course'] = reference['brief_hospital_course'].str.replace('\\n', ' ')\n",
    "\n",
    "print('Done.')"
   ]
  },
  {
   "cell_type": "code",
   "execution_count": 131,
   "metadata": {},
   "outputs": [],
   "source": [
    "def calculate_scores(generated, reference):\n",
    "    scores = {}\n",
    "\n",
    "    rouge = Rouge()\n",
    "    discharge_instructions_scores = rouge.get_scores(list(generated['discharge_instructions']), list(reference['discharge_instructions']), avg=True)\n",
    "    brief_hospital_course_scores = rouge.get_scores(list(generated['brief_hospital_course']), list(reference['brief_hospital_course']), avg=True)\n",
    "\n",
    "    scores['rouge1'] = (discharge_instructions_scores['rouge-1']['f'] + brief_hospital_course_scores['rouge-1']['f'])/2\n",
    "    scores['rouge2'] = (discharge_instructions_scores['rouge-2']['f'] + brief_hospital_course_scores['rouge-2']['f'])/2\n",
    "    scores['rougeL'] = (discharge_instructions_scores['rouge-l']['f'] + brief_hospital_course_scores['rouge-l']['f'])/2\n",
    "\n",
    "    return scores\n",
    "    "
   ]
  },
  {
   "cell_type": "code",
   "execution_count": 130,
   "metadata": {},
   "outputs": [],
   "source": [
    "scores = calculate_scores(generated, reference)\n",
    "\n",
    "with open(os.path.join(score_dir, 'scores.json'), 'w') as score_file:\n",
    "    score_file.write(json.dumps(scores))"
   ]
  }
 ],
 "metadata": {
  "kernelspec": {
   "display_name": "mimic",
   "language": "python",
   "name": "python3"
  },
  "language_info": {
   "codemirror_mode": {
    "name": "ipython",
    "version": 3
   },
   "file_extension": ".py",
   "mimetype": "text/x-python",
   "name": "python",
   "nbconvert_exporter": "python",
   "pygments_lexer": "ipython3",
   "version": "3.10.13"
  }
 },
 "nbformat": 4,
 "nbformat_minor": 2
}
